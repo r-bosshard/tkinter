{
 "cells": [
  {
   "cell_type": "code",
   "execution_count": 1,
   "metadata": {},
   "outputs": [],
   "source": [
    "import tkinter\n",
    "import smtplib\n",
    "from email.mime.multipart import MIMEMultipart\n",
    "from email.mime.text import MIMEText"
   ]
  },
  {
   "cell_type": "code",
   "execution_count": 10,
   "metadata": {},
   "outputs": [
    {
     "data": {
      "text/plain": [
       "(221, b'2.0.0 closing connection f9-v6sm246556iob.11 - gsmtp')"
      ]
     },
     "execution_count": 10,
     "metadata": {},
     "output_type": "execute_result"
    }
   ],
   "source": [
    "from_email = \"INSERT FROM EMAIL\"\n",
    "password = \"INSERT PASSWORD\"\n",
    "to_email = \"INSERT TO EMAIL\"\n",
    "subject = \"Hi!\"\n",
    "message = \"Testing!!!\"\n",
    "\n",
    "\n",
    "msg = MIMEMultipart()\n",
    "msg['From'] = from_email\n",
    "msg['To'] = to_email\n",
    "msg['Subject'] = subject\n",
    "msg.attach(MIMEText(message, 'plain'))\n",
    "\n",
    "server = smtplib.SMTP('smtp.gmail.com', 587)\n",
    "server.starttls()\n",
    "server.login(from_email, password)\n",
    "text = msg.as_string()\n",
    "server.sendmail(from_email, to_email, text)\n",
    "server.quit()"
   ]
  },
  {
   "cell_type": "code",
   "execution_count": 2,
   "metadata": {},
   "outputs": [
    {
     "name": "stdout",
     "output_type": "stream",
     "text": [
      "What email address? 9\n"
     ]
    },
    {
     "name": "stderr",
     "output_type": "stream",
     "text": [
      "Exception in Tkinter callback\n",
      "Traceback (most recent call last):\n",
      "  File \"/anaconda3/lib/python3.6/tkinter/__init__.py\", line 1699, in __call__\n",
      "    return self.func(*args)\n",
      "  File \"<ipython-input-2-cb95cc11f58b>\", line 22, in email\n",
      "    if user_guess < computer_guess:\n",
      "NameError: name 'user_guess' is not defined\n"
     ]
    },
    {
     "name": "stdout",
     "output_type": "stream",
     "text": [
      "What email address? 9\n"
     ]
    },
    {
     "name": "stderr",
     "output_type": "stream",
     "text": [
      "Exception in Tkinter callback\n",
      "Traceback (most recent call last):\n",
      "  File \"/anaconda3/lib/python3.6/tkinter/__init__.py\", line 1699, in __call__\n",
      "    return self.func(*args)\n",
      "  File \"<ipython-input-2-cb95cc11f58b>\", line 22, in email\n",
      "    if user_guess < computer_guess:\n",
      "NameError: name 'user_guess' is not defined\n"
     ]
    },
    {
     "ename": "TclError",
     "evalue": "can't invoke \"destroy\" command: application has been destroyed",
     "output_type": "error",
     "traceback": [
      "\u001b[0;31m---------------------------------------------------------------------------\u001b[0m",
      "\u001b[0;31mTclError\u001b[0m                                  Traceback (most recent call last)",
      "\u001b[0;32m<ipython-input-2-cb95cc11f58b>\u001b[0m in \u001b[0;36m<module>\u001b[0;34m()\u001b[0m\n\u001b[1;32m     70\u001b[0m \u001b[0;31m#start the main events loop\u001b[0m\u001b[0;34m\u001b[0m\u001b[0;34m\u001b[0m\u001b[0m\n\u001b[1;32m     71\u001b[0m \u001b[0mroot\u001b[0m\u001b[0;34m.\u001b[0m\u001b[0mmainloop\u001b[0m\u001b[0;34m(\u001b[0m\u001b[0;34m)\u001b[0m\u001b[0;34m\u001b[0m\u001b[0m\n\u001b[0;32m---> 72\u001b[0;31m \u001b[0mroot\u001b[0m\u001b[0;34m.\u001b[0m\u001b[0mdestroy\u001b[0m\u001b[0;34m(\u001b[0m\u001b[0;34m)\u001b[0m\u001b[0;34m\u001b[0m\u001b[0m\n\u001b[0m",
      "\u001b[0;32m/anaconda3/lib/python3.6/tkinter/__init__.py\u001b[0m in \u001b[0;36mdestroy\u001b[0;34m(self)\u001b[0m\n\u001b[1;32m   2054\u001b[0m         end the application of this Tcl interpreter.\"\"\"\n\u001b[1;32m   2055\u001b[0m         \u001b[0;32mfor\u001b[0m \u001b[0mc\u001b[0m \u001b[0;32min\u001b[0m \u001b[0mlist\u001b[0m\u001b[0;34m(\u001b[0m\u001b[0mself\u001b[0m\u001b[0;34m.\u001b[0m\u001b[0mchildren\u001b[0m\u001b[0;34m.\u001b[0m\u001b[0mvalues\u001b[0m\u001b[0;34m(\u001b[0m\u001b[0;34m)\u001b[0m\u001b[0;34m)\u001b[0m\u001b[0;34m:\u001b[0m \u001b[0mc\u001b[0m\u001b[0;34m.\u001b[0m\u001b[0mdestroy\u001b[0m\u001b[0;34m(\u001b[0m\u001b[0;34m)\u001b[0m\u001b[0;34m\u001b[0m\u001b[0m\n\u001b[0;32m-> 2056\u001b[0;31m         \u001b[0mself\u001b[0m\u001b[0;34m.\u001b[0m\u001b[0mtk\u001b[0m\u001b[0;34m.\u001b[0m\u001b[0mcall\u001b[0m\u001b[0;34m(\u001b[0m\u001b[0;34m'destroy'\u001b[0m\u001b[0;34m,\u001b[0m \u001b[0mself\u001b[0m\u001b[0;34m.\u001b[0m\u001b[0m_w\u001b[0m\u001b[0;34m)\u001b[0m\u001b[0;34m\u001b[0m\u001b[0m\n\u001b[0m\u001b[1;32m   2057\u001b[0m         \u001b[0mMisc\u001b[0m\u001b[0;34m.\u001b[0m\u001b[0mdestroy\u001b[0m\u001b[0;34m(\u001b[0m\u001b[0mself\u001b[0m\u001b[0;34m)\u001b[0m\u001b[0;34m\u001b[0m\u001b[0m\n\u001b[1;32m   2058\u001b[0m         \u001b[0;32mglobal\u001b[0m \u001b[0m_default_root\u001b[0m\u001b[0;34m\u001b[0m\u001b[0m\n",
      "\u001b[0;31mTclError\u001b[0m: can't invoke \"destroy\" command: application has been destroyed"
     ]
    }
   ],
   "source": [
    "#create root window\n",
    "root = tkinter.Tk()\n",
    "\n",
    "#change root window background colour\n",
    "bg_colour = \"white\"\n",
    "root.configure(bg=bg_colour)\n",
    "\n",
    "#change the title\n",
    "root.title(\"Send an Email!\")\n",
    "\n",
    "#change the window size\n",
    "root.geometry(\"250x100\")\n",
    "\n",
    "\n",
    "def email():\n",
    "    #Get the value from txt_guess\n",
    "    from_email = print(\"What email address? {0}\".format(str(txt_guess.get())))\n",
    "    \n",
    "    #keeping track of number of correct guesses\n",
    "    \n",
    "    #determine higher, lower, or correct\n",
    "    if user_guess < computer_guess:\n",
    "        msg = \"Higher!\"\n",
    "    elif user_guess > computer_guess:\n",
    "        msg = \"Lower!\"\n",
    "    elif user_guess == computer_guess:\n",
    "        count += 1\n",
    "        msg = \"Correct! Your score is {0}\".format(count)\n",
    "        reset()\n",
    "    else:\n",
    "        msg = \"Something went wrong...\"\n",
    "    \n",
    "    #show the result\n",
    "    lbl_result[\"text\"] = msg\n",
    "    \n",
    "    #clear txt_guess\n",
    "    txt_guess.delete(0, 5)\n",
    "\n",
    "def reset():\n",
    "    #declare the global variable\n",
    "    #get a random number\n",
    "    computer_guess = random.randint(1,10)\n",
    "    #change the lbl_result text\n",
    "    lbl_result[\"text\"] = \"Game reset. Guess again!\"\n",
    "\n",
    "#binding enter button to \"check\" button\n",
    "def func(event):\n",
    "    check()\n",
    "root.bind(\"<Return>\", func)\n",
    "    \n",
    "#create widgets\n",
    "lbl_title = tkinter.Label(root, text=\"Welcome to the Guessing Game!\", bg=bg_colour)\n",
    "lbl_title.pack()\n",
    "\n",
    "lbl_result = tkinter.Label(root, text=\"Good luck!\", bg=bg_colour)\n",
    "lbl_result.pack()\n",
    "\n",
    "btn_check = tkinter.Button(root, text=\"Check\", fg=\"green\", bg=bg_colour, command=email)\n",
    "btn_check.pack(side=\"left\")\n",
    "\n",
    "btn_reset = tkinter.Button(root, text=\"Reset\", fg=\"blue\", bg=bg_colour, command=reset)\n",
    "btn_reset.pack(side=\"right\")\n",
    "\n",
    "btn_quit = tkinter.Button(root, text=\"Quit\", fg=\"red\", bg=bg_colour, command=root.destroy)\n",
    "btn_quit.pack(side=\"bottom\")\n",
    "\n",
    "txt_guess = tkinter.Entry(root, width=3)\n",
    "txt_guess.pack()\n",
    "\n",
    "#start the main events loop\n",
    "root.mainloop()\n",
    "root.destroy()"
   ]
  },
  {
   "cell_type": "code",
   "execution_count": null,
   "metadata": {},
   "outputs": [],
   "source": []
  }
 ],
 "metadata": {
  "kernelspec": {
   "display_name": "Python 3",
   "language": "python",
   "name": "python3"
  },
  "language_info": {
   "codemirror_mode": {
    "name": "ipython",
    "version": 3
   },
   "file_extension": ".py",
   "mimetype": "text/x-python",
   "name": "python",
   "nbconvert_exporter": "python",
   "pygments_lexer": "ipython3",
   "version": "3.6.4"
  }
 },
 "nbformat": 4,
 "nbformat_minor": 2
}
