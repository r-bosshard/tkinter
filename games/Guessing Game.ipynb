{
 "cells": [
  {
   "cell_type": "code",
   "execution_count": 2,
   "metadata": {},
   "outputs": [
    {
     "name": "stdout",
     "output_type": "stream",
     "text": [
      "Collecting pip\n",
      "\u001b[?25l  Downloading https://files.pythonhosted.org/packages/5f/25/e52d3f31441505a5f3af41213346e5b6c221c9e086a166f3703d2ddaf940/pip-18.0-py2.py3-none-any.whl (1.3MB)\n",
      "\u001b[K    100% |████████████████████████████████| 1.3MB 3.4MB/s ta 0:00:01\n",
      "\u001b[31mpinnacle 0.0.7 has requirement pandas==0.20.3, but you'll have pandas 0.21.0 which is incompatible.\u001b[0m\n",
      "\u001b[31mpinnacle 0.0.7 has requirement requests==2.13.0, but you'll have requests 2.18.4 which is incompatible.\u001b[0m\n",
      "\u001b[31manaconda-client 1.6.9 has requirement python-dateutil>=2.6.1, but you'll have python-dateutil 2.6.0 which is incompatible.\u001b[0m\n",
      "\u001b[?25hInstalling collected packages: pip\n",
      "  Found existing installation: pip 10.0.1\n",
      "    Uninstalling pip-10.0.1:\n",
      "      Successfully uninstalled pip-10.0.1\n",
      "Successfully installed pip-18.0\n"
     ]
    }
   ],
   "source": [
    "!pip install --upgrade pip"
   ]
  },
  {
   "cell_type": "code",
   "execution_count": 3,
   "metadata": {
    "scrolled": true
   },
   "outputs": [
    {
     "name": "stdout",
     "output_type": "stream",
     "text": [
      "Collecting tkinter\n",
      "\u001b[31m  Could not find a version that satisfies the requirement tkinter (from versions: )\u001b[0m\n",
      "\u001b[31mNo matching distribution found for tkinter\u001b[0m\n"
     ]
    }
   ],
   "source": [
    "!pip install tkinter"
   ]
  },
  {
   "cell_type": "code",
   "execution_count": null,
   "metadata": {},
   "outputs": [],
   "source": [
    "import tkinter\n",
    "import random"
   ]
  },
  {
   "cell_type": "code",
   "execution_count": null,
   "metadata": {},
   "outputs": [],
   "source": [
    "#create root window\n",
    "root = tkinter.Tk()\n",
    "\n",
    "#change root window background colour\n",
    "bg_colour = \"white\"\n",
    "root.configure(bg=bg_colour)\n",
    "\n",
    "#change the title\n",
    "root.title(\"Guess the number!\")\n",
    "\n",
    "#change the window size\n",
    "root.geometry(\"250x100\")\n",
    "\n",
    "computer_guess = random.randint(1,10)\n",
    "count = 0\n",
    "\n",
    "def check():\n",
    "    #Get the value from txt_guess\n",
    "    user_guess = int(txt_guess.get())\n",
    "    \n",
    "    #keeping track of number of correct guesses\n",
    "    global count\n",
    "    \n",
    "    #determine higher, lower, or correct\n",
    "    if user_guess < computer_guess:\n",
    "        msg = \"Higher!\"\n",
    "    elif user_guess > computer_guess:\n",
    "        msg = \"Lower!\"\n",
    "    elif user_guess == computer_guess:\n",
    "        count += 1\n",
    "        msg = \"Correct! Your score is {0}\".format(count)\n",
    "        reset()\n",
    "    else:\n",
    "        msg = \"Something went wrong...\"\n",
    "    \n",
    "    #show the result\n",
    "    lbl_result[\"text\"] = msg\n",
    "    \n",
    "    #clear txt_guess\n",
    "    txt_guess.delete(0, 5)\n",
    "\n",
    "def reset():\n",
    "    #declare the global variable\n",
    "    global computer_guess\n",
    "    #get a random number\n",
    "    computer_guess = random.randint(1,10)\n",
    "    #change the lbl_result text\n",
    "    lbl_result[\"text\"] = \"Game reset. Guess again!\"\n",
    "\n",
    "#binding enter button to \"check\" button\n",
    "def func(event):\n",
    "    check()\n",
    "root.bind(\"<Return>\", func)\n",
    "    \n",
    "#create widgets\n",
    "lbl_title = tkinter.Label(root, text=\"Welcome to the Guessing Game!\", bg=bg_colour)\n",
    "lbl_title.pack()\n",
    "\n",
    "lbl_result = tkinter.Label(root, text=\"Good luck!\", bg=bg_colour)\n",
    "lbl_result.pack()\n",
    "\n",
    "btn_check = tkinter.Button(root, text=\"Check\", fg=\"green\", bg=bg_colour, command=check)\n",
    "btn_check.pack(side=\"left\")\n",
    "\n",
    "btn_reset = tkinter.Button(root, text=\"Reset\", fg=\"blue\", bg=bg_colour, command=reset)\n",
    "btn_reset.pack(side=\"right\")\n",
    "\n",
    "btn_quit = tkinter.Button(root, text=\"Quit\", fg=\"red\", bg=bg_colour, command=root.destroy)\n",
    "btn_quit.pack(side=\"bottom\")\n",
    "\n",
    "txt_guess = tkinter.Entry(root, width=3)\n",
    "txt_guess.pack()\n",
    "\n",
    "#start the main events loop\n",
    "root.mainloop()\n",
    "root.destroy()"
   ]
  },
  {
   "cell_type": "code",
   "execution_count": null,
   "metadata": {},
   "outputs": [],
   "source": []
  },
  {
   "cell_type": "code",
   "execution_count": null,
   "metadata": {},
   "outputs": [],
   "source": []
  }
 ],
 "metadata": {
  "kernelspec": {
   "display_name": "Python 3",
   "language": "python",
   "name": "python3"
  },
  "language_info": {
   "codemirror_mode": {
    "name": "ipython",
    "version": 3
   },
   "file_extension": ".py",
   "mimetype": "text/x-python",
   "name": "python",
   "nbconvert_exporter": "python",
   "pygments_lexer": "ipython3",
   "version": "3.6.4"
  }
 },
 "nbformat": 4,
 "nbformat_minor": 2
}
